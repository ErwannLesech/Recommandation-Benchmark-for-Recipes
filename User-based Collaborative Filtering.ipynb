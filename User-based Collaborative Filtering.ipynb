{
 "cells": [
  {
   "cell_type": "markdown",
   "id": "d4b4aedb",
   "metadata": {},
   "source": [
    "# User-based Collaborative Filtering\n",
    "\n",
    "User-based k-Nearest Neighbors (UserKNN) is another collaborative filtering algorithm used in\n",
    "recommendation systems. The core idea behind UserKNN is to make recommendations based on the\n",
    "preferences of similar users. UserKNN is intuitive and leverages the idea that users who have rated\n",
    "items similarly in the past will continue to have similar preferences. It’s especially effective when users\n",
    "have a rich history of interactions."
   ]
  },
  {
   "cell_type": "code",
   "execution_count": null,
   "id": "3a17a658",
   "metadata": {},
   "outputs": [],
   "source": [
    "# %pip install import_ipynb\n",
    "import import_ipynb\n",
    "import cornac\n",
    "from cornac.data import Dataset\n",
    "import cornac.metrics as met\n",
    "from data_loader import DataLoader # type: ignore"
   ]
  },
  {
   "cell_type": "code",
   "execution_count": 5,
   "id": "5760a8de",
   "metadata": {},
   "outputs": [],
   "source": [
    "data_path = \"data/\"\n",
    "data_loader = DataLoader(data_path)"
   ]
  },
  {
   "cell_type": "code",
   "execution_count": 8,
   "id": "7b6c5f12",
   "metadata": {},
   "outputs": [],
   "source": [
    "train_dataset = Dataset.from_uir(data_loader.load_train_reviews().values.tolist(), seed=42)\n",
    "test_dataset = Dataset.from_uir(data_loader.load_test_reviews().values.tolist(), seed=42)"
   ]
  },
  {
   "cell_type": "code",
   "execution_count": null,
   "id": "98db79ad",
   "metadata": {},
   "outputs": [],
   "source": [
    "metrics = [met.RMSE(), met.Precision(k=10), met.Recall(k=10)]"
   ]
  }
 ],
 "metadata": {
  "kernelspec": {
   "display_name": "Python 3",
   "language": "python",
   "name": "python3"
  },
  "language_info": {
   "codemirror_mode": {
    "name": "ipython",
    "version": 3
   },
   "file_extension": ".py",
   "mimetype": "text/x-python",
   "name": "python",
   "nbconvert_exporter": "python",
   "pygments_lexer": "ipython3",
   "version": "3.11.2"
  }
 },
 "nbformat": 4,
 "nbformat_minor": 5
}
