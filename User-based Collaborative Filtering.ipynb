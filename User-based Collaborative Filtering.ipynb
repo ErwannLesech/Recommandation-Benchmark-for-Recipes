{
 "cells": [
  {
   "cell_type": "markdown",
   "id": "d4b4aedb",
   "metadata": {},
   "source": [
    "# User-based Collaborative Filtering\n",
    "\n",
    "User-based k-Nearest Neighbors (UserKNN) is another collaborative filtering algorithm used in\n",
    "recommendation systems. The core idea behind UserKNN is to make recommendations based on the\n",
    "preferences of similar users. UserKNN is intuitive and leverages the idea that users who have rated\n",
    "items similarly in the past will continue to have similar preferences. It’s especially effective when users\n",
    "have a rich history of interactions."
   ]
  },
  {
   "cell_type": "code",
   "execution_count": 38,
   "id": "3a17a658",
   "metadata": {},
   "outputs": [],
   "source": [
    "# %pip install import_ipynb\n",
    "import import_ipynb\n",
    "import cornac\n",
    "from cornac.data import Dataset\n",
    "import cornac.metrics as met\n",
    "from cornac.eval_methods import BaseMethod\n",
    "from data_loader import DataLoader # type: ignore"
   ]
  },
  {
   "cell_type": "code",
   "execution_count": 33,
   "id": "5760a8de",
   "metadata": {},
   "outputs": [],
   "source": [
    "data_path = \"data/\"\n",
    "data_loader = DataLoader(data_path)"
   ]
  },
  {
   "cell_type": "code",
   "execution_count": 34,
   "id": "7b6c5f12",
   "metadata": {},
   "outputs": [
    {
     "name": "stdout",
     "output_type": "stream",
     "text": [
      "(513384, 4)\n"
     ]
    },
    {
     "data": {
      "text/html": [
       "<div>\n",
       "<style scoped>\n",
       "    .dataframe tbody tr th:only-of-type {\n",
       "        vertical-align: middle;\n",
       "    }\n",
       "\n",
       "    .dataframe tbody tr th {\n",
       "        vertical-align: top;\n",
       "    }\n",
       "\n",
       "    .dataframe thead th {\n",
       "        text-align: right;\n",
       "    }\n",
       "</style>\n",
       "<table border=\"1\" class=\"dataframe\">\n",
       "  <thead>\n",
       "    <tr style=\"text-align: right;\">\n",
       "      <th></th>\n",
       "      <th>ReviewId</th>\n",
       "      <th>RecipeId</th>\n",
       "      <th>AuthorId</th>\n",
       "      <th>Rating</th>\n",
       "    </tr>\n",
       "  </thead>\n",
       "  <tbody>\n",
       "    <tr>\n",
       "      <th>0</th>\n",
       "      <td>826743</td>\n",
       "      <td>3745</td>\n",
       "      <td>345380</td>\n",
       "      <td>4</td>\n",
       "    </tr>\n",
       "    <tr>\n",
       "      <th>1</th>\n",
       "      <td>1247176</td>\n",
       "      <td>26217</td>\n",
       "      <td>406131</td>\n",
       "      <td>1</td>\n",
       "    </tr>\n",
       "    <tr>\n",
       "      <th>2</th>\n",
       "      <td>1250914</td>\n",
       "      <td>17123</td>\n",
       "      <td>355582</td>\n",
       "      <td>5</td>\n",
       "    </tr>\n",
       "    <tr>\n",
       "      <th>3</th>\n",
       "      <td>183560</td>\n",
       "      <td>123283</td>\n",
       "      <td>58104</td>\n",
       "      <td>4</td>\n",
       "    </tr>\n",
       "    <tr>\n",
       "      <th>4</th>\n",
       "      <td>1255493</td>\n",
       "      <td>110139</td>\n",
       "      <td>383795</td>\n",
       "      <td>5</td>\n",
       "    </tr>\n",
       "  </tbody>\n",
       "</table>\n",
       "</div>"
      ],
      "text/plain": [
       "   ReviewId  RecipeId  AuthorId  Rating\n",
       "0    826743      3745    345380       4\n",
       "1   1247176     26217    406131       1\n",
       "2   1250914     17123    355582       5\n",
       "3    183560    123283     58104       4\n",
       "4   1255493    110139    383795       5"
      ]
     },
     "execution_count": 34,
     "metadata": {},
     "output_type": "execute_result"
    }
   ],
   "source": [
    "train_dataset, test_dataset = data_loader.load_for_cornac(dataset_type='split')\n",
    "print(train_dataset.shape)\n",
    "train_dataset.head()"
   ]
  },
  {
   "cell_type": "markdown",
   "id": "bf9bbb0c",
   "metadata": {},
   "source": [
    "## User-based Collaborative Filtering (UserKNN)\n",
    "\n",
    "User-based collaborative filtering finds users who are similar to the target user and recommends items that these similar users have liked. The algorithm works as follows:\n",
    "\n",
    "1. **Find Similar Users**: Calculate similarity between users based on their rating patterns\n",
    "2. **Neighborhood Selection**: Select k most similar users (k-nearest neighbors)\n",
    "3. **Prediction**: Predict ratings for unrated items based on similar users' ratings\n",
    "4. **Recommendation**: Recommend items with highest predicted ratings\n",
    "\n",
    "### Key Parameters:\n",
    "- **k**: Number of similar users to consider (neighborhood size)\n",
    "- **similarity**: Similarity metric (cosine, pearson, etc.)\n",
    "- **min_support**: Minimum number of common items between users"
   ]
  },
  {
   "cell_type": "code",
   "execution_count": 41,
   "id": "b4baae02",
   "metadata": {},
   "outputs": [],
   "source": [
    "metrics = [met.RMSE(), met.Precision(k=10), met.Recall(k=10)]\n",
    "eval_method = BaseMethod.from_splits(train_dataset[['AuthorId', 'RecipeId', 'Rating']].values, test_dataset[['AuthorId', 'RecipeId', 'Rating']].values)"
   ]
  },
  {
   "cell_type": "code",
   "execution_count": null,
   "id": "559904e4",
   "metadata": {},
   "outputs": [
    {
     "name": "stdout",
     "output_type": "stream",
     "text": [
      "\n",
      "================================================================================\n",
      "USER-BASED COLLABORATIVE FILTERING (UserKNN) EVALUATION\n",
      "================================================================================\n",
      "\n",
      "Testing UserKNN with k=10...\n"
     ]
    },
    {
     "name": "stderr",
     "output_type": "stream",
     "text": [
      "100%|██████████| 17748/17748 [00:01<00:00, 10084.69it/s]\n",
      "/home/r-one/.local/lib/python3.11/site-packages/cornac/models/recommender.py:322: UserWarning: Model is already fitted. Re-fitting will overwrite the previous model.\n",
      "  warnings.warn(\n",
      "100%|██████████| 17748/17748 [00:00<00:00, 19445.86it/s]\n"
     ]
    },
    {
     "ename": "AttributeError",
     "evalue": "'Result' object has no attribute 'value'",
     "output_type": "error",
     "traceback": [
      "\u001b[31m---------------------------------------------------------------------------\u001b[39m",
      "\u001b[31mAttributeError\u001b[39m                            Traceback (most recent call last)",
      "\u001b[36mCell\u001b[39m\u001b[36m \u001b[39m\u001b[32mIn[42]\u001b[39m\u001b[32m, line 24\u001b[39m\n\u001b[32m     22\u001b[39m \u001b[38;5;66;03m# Evaluate metrics\u001b[39;00m\n\u001b[32m     23\u001b[39m results = eval_method.evaluate(user_knn, metrics=metrics, user_based=\u001b[38;5;28;01mFalse\u001b[39;00m)\n\u001b[32m---> \u001b[39m\u001b[32m24\u001b[39m rmse = \u001b[43mresults\u001b[49m\u001b[43m[\u001b[49m\u001b[32;43m0\u001b[39;49m\u001b[43m]\u001b[49m\u001b[43m.\u001b[49m\u001b[43mvalue\u001b[49m\n\u001b[32m     25\u001b[39m precision = results[\u001b[32m1\u001b[39m].value\n\u001b[32m     26\u001b[39m recall = results[\u001b[32m2\u001b[39m].value\n",
      "\u001b[31mAttributeError\u001b[39m: 'Result' object has no attribute 'value'"
     ]
    }
   ],
   "source": [
    "from cornac.models import UserKNN\n",
    "from cornac.eval_methods import RatioSplit\n",
    "import pandas as pd\n",
    "import time\n",
    "\n",
    "cornac_train_dataset = Dataset.from_uir(train_dataset[['AuthorId', 'RecipeId', 'Rating']].values.tolist(), seed=42)\n",
    "cornac_test_dataset = Dataset.from_uir(test_dataset[['AuthorId', 'RecipeId', 'Rating']].values.tolist(), seed=42)\n",
    "\n",
    "k_values = [10, 20, 50, 100]\n",
    "user_knn_results = []\n",
    "\n",
    "print(\"\\n\" + \"=\"*80)\n",
    "print(\"USER-BASED COLLABORATIVE FILTERING (UserKNN) EVALUATION\")\n",
    "print(\"=\"*80)\n",
    "\n",
    "for k in k_values:\n",
    "    print(f\"\\nTesting UserKNN with k={k}...\")\n",
    "    user_knn = UserKNN(k=k, similarity='cosine', verbose=True)\n",
    "    start_time = time.time()\n",
    "    user_knn.fit(cornac_train_dataset)\n",
    "    total_time = time.time() - start_time\n",
    "    # Evaluate metrics\n",
    "    results = eval_method.evaluate(user_knn, metrics=metrics, user_based=False)\n",
    "    for metric in results:\n",
    "        print(f\"  {metric.name}: {metric.value:.4f}\")\n",
    "    \"\"\"model_result = {\n",
    "        'model': f'UserKNN(k={k})',\n",
    "        'k': k,\n",
    "        'rmse': rmse,\n",
    "        'precision': precision,\n",
    "        'recall': recall,\n",
    "        'total_time': total_time\n",
    "    }\n",
    "    user_knn_results.append(model_result)\n",
    "    print(f\"  RMSE: {rmse:.4f}\")\n",
    "    print(f\"  Precision@10: {precision:.4f}\")\n",
    "    print(f\"  Recall@10: {recall:.4f}\")\n",
    "    print(f\"  Total time: {total_time:.2f}s\")\"\"\"\n",
    "\n",
    "# Display results in a nice table\n",
    "\"\"\"user_knn_df = pd.DataFrame(user_knn_results)\n",
    "print(f\"\\n{'='*80}\")\n",
    "print(\"USER-BASED COLLABORATIVE FILTERING RESULTS SUMMARY\")\n",
    "print(f\"{'='*80}\")\n",
    "print(user_knn_df.to_string(index=False, float_format='%.4f'))\"\"\""
   ]
  }
 ],
 "metadata": {
  "kernelspec": {
   "display_name": "Python 3",
   "language": "python",
   "name": "python3"
  },
  "language_info": {
   "codemirror_mode": {
    "name": "ipython",
    "version": 3
   },
   "file_extension": ".py",
   "mimetype": "text/x-python",
   "name": "python",
   "nbconvert_exporter": "python",
   "pygments_lexer": "ipython3",
   "version": "3.11.2"
  }
 },
 "nbformat": 4,
 "nbformat_minor": 5
}
