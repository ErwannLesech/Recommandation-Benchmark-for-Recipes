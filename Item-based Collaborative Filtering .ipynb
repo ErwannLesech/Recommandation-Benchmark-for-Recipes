{
 "cells": [
  {
   "cell_type": "markdown",
   "id": "d4b4aedb",
   "metadata": {},
   "source": [
    "# Item-based Collaborative Filtering\n",
    "\n",
    "Item-based k-Nearest Neighbors (ItemKNN) is a collaborative filtering algorithm used in\n",
    "recommendation systems. The core idea behind ItemKNN is to make recommendations based on the\n",
    "similarity between items rather than users. ItemKNN calculates the similarity between items based on how\n",
    "users have rated them, and uses these similarities to predict ratings for items a user hasn't rated yet.\n",
    "\n",
    "This approach is particularly effective when:\n",
    "- The number of items is more stable than the number of users\n",
    "- Item similarities tend to be more static over time than user similarities\n",
    "- You want to provide more interpretable recommendations (\"We recommend this because it's similar to items you liked\")"
   ]
  },
  {
   "cell_type": "code",
   "execution_count": 5,
   "id": "3a17a658",
   "metadata": {},
   "outputs": [],
   "source": [
    "# %pip install import_ipynb\n",
    "import import_ipynb \n",
    "import cornac\n",
    "from cornac.data import Dataset\n",
    "import cornac.metrics as met\n",
    "from cornac.eval_methods import BaseMethod\n",
    "from data_loader import DataLoader # type: ignore"
   ]
  },
  {
   "cell_type": "code",
   "execution_count": 6,
   "id": "5760a8de",
   "metadata": {},
   "outputs": [],
   "source": [
    "data_path = \"data/\"\n",
    "data_loader = DataLoader(data_path)"
   ]
  },
  {
   "cell_type": "code",
   "execution_count": 7,
   "id": "7b6c5f12",
   "metadata": {},
   "outputs": [
    {
     "name": "stdout",
     "output_type": "stream",
     "text": [
      "(513384, 4)\n"
     ]
    },
    {
     "data": {
      "text/html": [
       "<div>\n",
       "<style scoped>\n",
       "    .dataframe tbody tr th:only-of-type {\n",
       "        vertical-align: middle;\n",
       "    }\n",
       "\n",
       "    .dataframe tbody tr th {\n",
       "        vertical-align: top;\n",
       "    }\n",
       "\n",
       "    .dataframe thead th {\n",
       "        text-align: right;\n",
       "    }\n",
       "</style>\n",
       "<table border=\"1\" class=\"dataframe\">\n",
       "  <thead>\n",
       "    <tr style=\"text-align: right;\">\n",
       "      <th></th>\n",
       "      <th>ReviewId</th>\n",
       "      <th>RecipeId</th>\n",
       "      <th>AuthorId</th>\n",
       "      <th>Rating</th>\n",
       "    </tr>\n",
       "  </thead>\n",
       "  <tbody>\n",
       "    <tr>\n",
       "      <th>0</th>\n",
       "      <td>826743</td>\n",
       "      <td>3745</td>\n",
       "      <td>345380</td>\n",
       "      <td>4</td>\n",
       "    </tr>\n",
       "    <tr>\n",
       "      <th>1</th>\n",
       "      <td>1247176</td>\n",
       "      <td>26217</td>\n",
       "      <td>406131</td>\n",
       "      <td>1</td>\n",
       "    </tr>\n",
       "    <tr>\n",
       "      <th>2</th>\n",
       "      <td>1250914</td>\n",
       "      <td>17123</td>\n",
       "      <td>355582</td>\n",
       "      <td>5</td>\n",
       "    </tr>\n",
       "    <tr>\n",
       "      <th>3</th>\n",
       "      <td>183560</td>\n",
       "      <td>123283</td>\n",
       "      <td>58104</td>\n",
       "      <td>4</td>\n",
       "    </tr>\n",
       "    <tr>\n",
       "      <th>4</th>\n",
       "      <td>1255493</td>\n",
       "      <td>110139</td>\n",
       "      <td>383795</td>\n",
       "      <td>5</td>\n",
       "    </tr>\n",
       "  </tbody>\n",
       "</table>\n",
       "</div>"
      ],
      "text/plain": [
       "   ReviewId  RecipeId  AuthorId  Rating\n",
       "0    826743      3745    345380       4\n",
       "1   1247176     26217    406131       1\n",
       "2   1250914     17123    355582       5\n",
       "3    183560    123283     58104       4\n",
       "4   1255493    110139    383795       5"
      ]
     },
     "execution_count": 7,
     "metadata": {},
     "output_type": "execute_result"
    }
   ],
   "source": [
    "train_dataset, test_dataset = data_loader.load_for_cornac(dataset_type='split')\n",
    "print(train_dataset.shape)\n",
    "train_dataset.head()"
   ]
  },
  {
   "cell_type": "markdown",
   "id": "bf9bbb0c",
   "metadata": {},
   "source": [
    "## Item-based Collaborative Filtering (ItemKNN)\n",
    "\n",
    "Item-based collaborative filtering finds items that are similar to those the user has already rated highly. The algorithm works as follows:\n",
    "\n",
    "1. **Calculate Item Similarity**: Compute similarity between items based on user rating patterns\n",
    "2. **Find Similar Items**: For each item, identify the k most similar items\n",
    "3. **Prediction**: Predict ratings for unrated items using the ratings of similar items\n",
    "4. **Recommendation**: Recommend items with highest predicted ratings\n",
    "\n",
    "### Key Parameters:\n",
    "- **k**: Number of similar items to consider (neighborhood size)\n",
    "- **similarity**: Similarity metric (cosine, pearson, etc.)\n",
    "- **min_support**: Minimum number of users who have rated both items"
   ]
  },
  {
   "cell_type": "code",
   "execution_count": null,
   "id": "559904e4",
   "metadata": {},
   "outputs": [
    {
     "name": "stdout",
     "output_type": "stream",
     "text": [
      "Train dataset size: (513384, 4)\n",
      "Test dataset size: (128, 4)\n",
      "\n",
      "================================================================================\n",
      "ITEM-BASED COLLABORATIVE FILTERING (ItemKNN) EVALUATION\n",
      "================================================================================\n",
      "\n",
      "Testing ItemKNN with k=5...\n",
      "\n",
      "================================================================================\n",
      "ITEM-BASED COLLABORATIVE FILTERING (ItemKNN) EVALUATION\n",
      "================================================================================\n",
      "\n",
      "Testing ItemKNN with k=5...\n"
     ]
    },
    {
     "data": {
      "application/vnd.jupyter.widget-view+json": {
       "model_id": "3997227d92904aff8fa3ee186eed0576",
       "version_major": 2,
       "version_minor": 0
      },
      "text/plain": [
       "  0%|          | 0/39057 [00:00<?, ?it/s]"
      ]
     },
     "metadata": {},
     "output_type": "display_data"
    },
    {
     "name": "stderr",
     "output_type": "stream",
     "text": [
      "/home/durakalon/.local/lib/python3.12/site-packages/cornac/models/recommender.py:322: UserWarning: Model is already fitted. Re-fitting will overwrite the previous model.\n",
      "  warnings.warn(\n"
     ]
    },
    {
     "data": {
      "application/vnd.jupyter.widget-view+json": {
       "model_id": "7fd1722ba6c84fd8b4f5cdc7c7d06c9c",
       "version_major": 2,
       "version_minor": 0
      },
      "text/plain": [
       "  0%|          | 0/39057 [00:00<?, ?it/s]"
      ]
     },
     "metadata": {},
     "output_type": "display_data"
    },
    {
     "name": "stdout",
     "output_type": "stream",
     "text": [
      "        |    MAE |    MSE |   RMSE | NDCG@10 | Precision@10 | Recall@10 | Train (s) | Test (s)\n",
      "------- + ------ + ------ + ------ + ------- + ------------ + --------- + --------- + --------\n",
      "ItemKNN | 0.4953 | 0.8000 | 0.8944 |  0.0050 |       0.0008 |    0.0080 |   36.2173 |  24.3924\n",
      "\n",
      "None\n",
      "  Total time: 29.30s\n",
      "\n",
      "Testing ItemKNN with k=10...\n"
     ]
    },
    {
     "data": {
      "application/vnd.jupyter.widget-view+json": {
       "model_id": "c7cb755c20e64e85b9fc1533763c7854",
       "version_major": 2,
       "version_minor": 0
      },
      "text/plain": [
       "  0%|          | 0/39057 [00:00<?, ?it/s]"
      ]
     },
     "metadata": {},
     "output_type": "display_data"
    },
    {
     "data": {
      "application/vnd.jupyter.widget-view+json": {
       "model_id": "cf458183d40347a88d87d2592fe0e34d",
       "version_major": 2,
       "version_minor": 0
      },
      "text/plain": [
       "  0%|          | 0/39057 [00:00<?, ?it/s]"
      ]
     },
     "metadata": {},
     "output_type": "display_data"
    }
   ],
   "source": [
    "from cornac.models import ItemKNN\n",
    "from cornac.eval_methods import RatioSplit\n",
    "import pandas as pd\n",
    "import time\n",
    "\n",
    "# Use a percentage of the dataset\n",
    "train_percentage = 1\n",
    "test_percentage = 0.1 \n",
    "\n",
    "train_dataset = train_dataset.sample(frac=train_percentage, random_state=42)\n",
    "test_dataset = test_dataset.sample(frac=test_percentage, random_state=42)\n",
    "\n",
    "print(f\"Train dataset size: {train_dataset.shape}\"\n",
    "      f\"\\nTest dataset size: {test_dataset.shape}\")\n",
    "\n",
    "cornac_train_dataset = Dataset.from_uir(train_dataset[['AuthorId', 'RecipeId', 'Rating']].values.tolist(), seed=42)\n",
    "\n",
    "metrics = [\n",
    "    met.MSE(),\n",
    "    met.RMSE(),\n",
    "    met.MAE(),\n",
    "    met.Precision(k=10),\n",
    "    met.Recall(k=10),\n",
    "    met.NDCG(k=10),\n",
    "]\n",
    "eval_method = BaseMethod.from_splits(train_dataset[['AuthorId', 'RecipeId', 'Rating']].values, test_dataset[['AuthorId', 'RecipeId', 'Rating']].values)\n",
    "\n",
    "k_values = [5, 10, 20, 50]\n",
    "item_knn_results = []\n",
    "\n",
    "print(\"\\n\" + \"=\"*80)\n",
    "print(\"ITEM-BASED COLLABORATIVE FILTERING (ItemKNN) EVALUATION\")\n",
    "print(\"=\"*80)\n",
    "\n",
    "for k in k_values:\n",
    "    print(f\"\\nTesting ItemKNN with k={k}...\")\n",
    "    item_knn = ItemKNN(k=k, similarity='cosine', verbose=True)\n",
    "    start_time = time.time()\n",
    "    item_knn.fit(cornac_train_dataset)\n",
    "    total_time = time.time() - start_time\n",
    "    \n",
    "    # Evaluate metrics\n",
    "    results = eval_method.evaluate(item_knn, metrics=metrics, user_based=False)\n",
    "    \n",
    "    for metric_result in results:\n",
    "        print(metric_result)\n",
    "    \n",
    "    model_result = {\n",
    "        'model': f'ItemKNN(k={k})',\n",
    "        'k': k,\n",
    "        'results': results,\n",
    "        'total_time': total_time\n",
    "    }\n",
    "    item_knn_results.append(model_result)\n",
    "    print(f\"  Total time: {total_time:.2f}s\")\n",
    "\n",
    "# Display results in a nice table\n",
    "item_knn_df = pd.DataFrame(item_knn_results)\n",
    "print(f\"\\n{'='*80}\")\n",
    "print(\"ITEM-BASED COLLABORATIVE FILTERING RESULTS SUMMARY\")\n",
    "print(f\"{'='*80}\")\n",
    "print(item_knn_df.to_string(index=False, float_format='%.4f'))"
   ]
  },
  {
   "cell_type": "code",
   "execution_count": null,
   "id": "56e66135",
   "metadata": {},
   "outputs": [
    {
     "data": {
      "text/html": [
       "<div>\n",
       "<style scoped>\n",
       "    .dataframe tbody tr th:only-of-type {\n",
       "        vertical-align: middle;\n",
       "    }\n",
       "\n",
       "    .dataframe tbody tr th {\n",
       "        vertical-align: top;\n",
       "    }\n",
       "\n",
       "    .dataframe thead th {\n",
       "        text-align: right;\n",
       "    }\n",
       "</style>\n",
       "<table border=\"1\" class=\"dataframe\">\n",
       "  <thead>\n",
       "    <tr style=\"text-align: right;\">\n",
       "      <th></th>\n",
       "      <th>model</th>\n",
       "      <th>k</th>\n",
       "      <th>total_time</th>\n",
       "      <th>MSE</th>\n",
       "      <th>RMSE</th>\n",
       "      <th>MAE</th>\n",
       "      <th>Precision@50</th>\n",
       "      <th>Recall@50</th>\n",
       "      <th>NDCG@50</th>\n",
       "    </tr>\n",
       "  </thead>\n",
       "  <tbody>\n",
       "    <tr>\n",
       "      <th>0</th>\n",
       "      <td>ItemKNN(k=5)</td>\n",
       "      <td>5</td>\n",
       "      <td>0.028207</td>\n",
       "      <td>0.2125</td>\n",
       "      <td>0.0452</td>\n",
       "      <td>0.2125</td>\n",
       "      <td>0.5</td>\n",
       "      <td>0.05</td>\n",
       "      <td>0.5</td>\n",
       "    </tr>\n",
       "    <tr>\n",
       "      <th>1</th>\n",
       "      <td>ItemKNN(k=10)</td>\n",
       "      <td>10</td>\n",
       "      <td>0.058727</td>\n",
       "      <td>0.2125</td>\n",
       "      <td>0.0452</td>\n",
       "      <td>0.2125</td>\n",
       "      <td>0.5</td>\n",
       "      <td>0.05</td>\n",
       "      <td>0.5</td>\n",
       "    </tr>\n",
       "    <tr>\n",
       "      <th>2</th>\n",
       "      <td>ItemKNN(k=20)</td>\n",
       "      <td>20</td>\n",
       "      <td>0.043335</td>\n",
       "      <td>0.2125</td>\n",
       "      <td>0.0452</td>\n",
       "      <td>0.2125</td>\n",
       "      <td>0.5</td>\n",
       "      <td>0.05</td>\n",
       "      <td>0.5</td>\n",
       "    </tr>\n",
       "    <tr>\n",
       "      <th>3</th>\n",
       "      <td>ItemKNN(k=50)</td>\n",
       "      <td>50</td>\n",
       "      <td>0.066185</td>\n",
       "      <td>0.2125</td>\n",
       "      <td>0.0452</td>\n",
       "      <td>0.2125</td>\n",
       "      <td>0.5</td>\n",
       "      <td>0.05</td>\n",
       "      <td>0.5</td>\n",
       "    </tr>\n",
       "  </tbody>\n",
       "</table>\n",
       "</div>"
      ],
      "text/plain": [
       "           model   k  total_time     MSE    RMSE     MAE  Precision@50  \\\n",
       "0   ItemKNN(k=5)   5    0.028207  0.2125  0.0452  0.2125           0.5   \n",
       "1  ItemKNN(k=10)  10    0.058727  0.2125  0.0452  0.2125           0.5   \n",
       "2  ItemKNN(k=20)  20    0.043335  0.2125  0.0452  0.2125           0.5   \n",
       "3  ItemKNN(k=50)  50    0.066185  0.2125  0.0452  0.2125           0.5   \n",
       "\n",
       "   Recall@50  NDCG@50  \n",
       "0       0.05      0.5  \n",
       "1       0.05      0.5  \n",
       "2       0.05      0.5  \n",
       "3       0.05      0.5  "
      ]
     },
     "execution_count": 23,
     "metadata": {},
     "output_type": "execute_result"
    }
   ],
   "source": [
    "def extract_metrics(results_tuple, metrics=[\n",
    "        met.MSE(),\n",
    "        met.RMSE(),\n",
    "        met.MAE(),\n",
    "        met.Precision(k=k),\n",
    "        met.Recall(k=k),\n",
    "        met.NDCG(k=k),\n",
    "    ]):\n",
    "    \"\"\"\n",
    "    Extracts metrics from the results tuple returned by Cornac evaluation.\n",
    "    \"\"\"\n",
    "    cornac_metrics = results_tuple[0]\n",
    "    string_metrics = str(cornac_metrics)\n",
    "    \n",
    "    result_line = string_metrics.split('\\n')[2].strip()\n",
    "    result_values = result_line.split(\"|\")[1:]\n",
    "    \n",
    "    metrics_dict = {}\n",
    "    for metric, value in zip(metrics, result_values):\n",
    "        metric_name = metric.name if hasattr(metric, 'name') else str(metric)\n",
    "        metrics_dict[metric_name] = float(value.strip())\n",
    "            \n",
    "    return metrics_dict\n",
    "\n",
    "for result in item_knn_results:\n",
    "    result['results'] = extract_metrics(result['results'], metrics=[\n",
    "        met.MSE(),\n",
    "        met.RMSE(),\n",
    "        met.MAE(),\n",
    "        met.Precision(k=k),\n",
    "        met.Recall(k=k),\n",
    "        met.NDCG(k=k),\n",
    "    ])\n",
    "\n",
    "for result in item_knn_results:\n",
    "    for metric_name, value in result['results'].items():\n",
    "        result[metric_name] = value\n",
    "    del result['results']\n",
    "\n",
    "item_knn_df = pd.DataFrame(item_knn_results)\n",
    "item_knn_df\n"
   ]
  }
 ],
 "metadata": {
  "kernelspec": {
   "display_name": "Python 3",
   "language": "python",
   "name": "python3"
  },
  "language_info": {
   "codemirror_mode": {
    "name": "ipython",
    "version": 3
   },
   "file_extension": ".py",
   "mimetype": "text/x-python",
   "name": "python",
   "nbconvert_exporter": "python",
   "pygments_lexer": "ipython3",
   "version": "3.12.7"
  }
 },
 "nbformat": 4,
 "nbformat_minor": 5
}
