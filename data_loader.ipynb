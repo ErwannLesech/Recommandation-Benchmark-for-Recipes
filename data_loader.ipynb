{
 "cells": [
  {
   "cell_type": "markdown",
   "id": "ee1f28d8",
   "metadata": {},
   "source": [
    "# Data Loader\n",
    "\n",
    "This file aims to add utils functions and classes to load and handle data of the project.\n",
    "\n",
    "### Class to import in other files to load datasets of the project"
   ]
  },
  {
   "cell_type": "code",
   "execution_count": 1,
   "id": "1da78368",
   "metadata": {},
   "outputs": [],
   "source": [
    "import os\n",
    "import pandas as pd\n",
    "\n",
    "class DataLoader:\n",
    "    def __init__(self, data_folder):\n",
    "        self.data_folder = data_folder\n",
    "        self.files = {\n",
    "            \"reviews\": \"reviews.csv\",\n",
    "            \"recipes\": \"recipes.csv\",\n",
    "            \"train_reviews\": \"train_reviews.csv\",\n",
    "            \"test_reviews\": \"test_reviews.csv\"\n",
    "        }\n",
    "        self.paths = {k: os.path.join(self.data_folder, v) for k, v in self.files.items()}\n",
    "\n",
    "    def load_reviews(self):\n",
    "        return pd.read_csv(self.paths[\"reviews\"])\n",
    "\n",
    "    def load_recipes(self):\n",
    "        return pd.read_csv(self.paths[\"recipes\"])\n",
    "\n",
    "    def load_train_reviews(self):\n",
    "        return pd.read_csv(self.paths[\"train_reviews\"])\n",
    "\n",
    "    def load_test_reviews(self):\n",
    "        return pd.read_csv(self.paths[\"test_reviews\"])\n",
    "\n",
    "    def get_available_files(self):\n",
    "        return [f for f in self.files.values() if os.path.exists(os.path.join(self.data_folder, f))]"
   ]
  }
 ],
 "metadata": {
  "language_info": {
   "name": "python"
  }
 },
 "nbformat": 4,
 "nbformat_minor": 5
}
